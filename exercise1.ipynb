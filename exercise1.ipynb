{
  "nbformat": 4,
  "nbformat_minor": 0,
  "metadata": {
    "colab": {
      "provenance": [],
      "authorship_tag": "ABX9TyMFDZaDkG/g6lJW2OD75x9r",
      "include_colab_link": true
    },
    "kernelspec": {
      "name": "python3",
      "display_name": "Python 3"
    },
    "language_info": {
      "name": "python"
    }
  },
  "cells": [
    {
      "cell_type": "markdown",
      "metadata": {
        "id": "view-in-github",
        "colab_type": "text"
      },
      "source": [
        "<a href=\"https://colab.research.google.com/github/mostafa-sadeghi/maryam_rahimi/blob/main/exercise1.ipynb\" target=\"_parent\"><img src=\"https://colab.research.google.com/assets/colab-badge.svg\" alt=\"Open In Colab\"/></a>"
      ]
    },
    {
      "cell_type": "code",
      "execution_count": 2,
      "metadata": {
        "id": "OuGqCX1hRCul"
      },
      "outputs": [],
      "source": [
        "# write a program that gives a number from input and show all digits seperatly"
      ]
    },
    {
      "cell_type": "code",
      "source": [
        "a = 2\n",
        "b = 3\n",
        "\n",
        "# if a > b:\n",
        "#   print(\"a is greater than b\")\n",
        "# truthy & falsy\n",
        "# all numbers except 0 are truthy\n",
        "# if a :\n",
        "#   print(\"some thing\")\n",
        "\n",
        "string = ''\n",
        "string2 = \"\"\n",
        "print(bool(string))\n",
        "print(bool(0))\n",
        "\n",
        "string3 = ' '\n",
        "print(bool(string3))\n",
        "\n",
        "list1 = []\n",
        "tuple1 = ()\n",
        "dict1 = {}\n",
        "temp = None"
      ],
      "metadata": {
        "colab": {
          "base_uri": "https://localhost:8080/"
        },
        "id": "wvIIiJpITCHA",
        "outputId": "8d596914-b09c-4dbc-de47-82a0a3ec5a7c"
      },
      "execution_count": 8,
      "outputs": [
        {
          "output_type": "stream",
          "name": "stdout",
          "text": [
            "False\n",
            "False\n",
            "True\n"
          ]
        }
      ]
    },
    {
      "cell_type": "code",
      "source": [
        "# number = int(input('enter a number:> ')) # 412\n",
        "# math\n",
        "i = 1\n",
        "# while number:\n",
        "#   print(f\"{i}th digit:\",number % 10)\n",
        "#   number //= 10\n",
        "#   i += 1\n",
        "\n",
        "# number = 432\n",
        "# while True:\n",
        "#   print(f\"{i}th digit:\",number % 10)\n",
        "#   number //= 10\n",
        "#   if number == 0:\n",
        "#     break\n",
        "#   i += 1\n",
        "\n",
        "\n",
        "# str\n",
        "# number = input('enter a number:> ')\n",
        "# j = 1\n",
        "# for i in range(len(number)-1,-1,-1):\n",
        "#     print(f\"{j}th digit:\",number[i])\n",
        "#     j +=1\n",
        "\n"
      ],
      "metadata": {
        "colab": {
          "base_uri": "https://localhost:8080/"
        },
        "id": "_W8Eft7WRmLL",
        "outputId": "7c922400-33b0-484e-fa17-5598c09c83fd"
      },
      "execution_count": 6,
      "outputs": [
        {
          "output_type": "stream",
          "name": "stdout",
          "text": [
            "1th digit: 2\n",
            "2th digit: 3\n",
            "3th digit: 4\n"
          ]
        }
      ]
    },
    {
      "cell_type": "code",
      "source": [
        "print(\"ali\"[0])"
      ],
      "metadata": {
        "colab": {
          "base_uri": "https://localhost:8080/"
        },
        "id": "pDYMhgj5YxKw",
        "outputId": "9e625391-4c2f-4bd5-fc4d-a329f4ec0bfb"
      },
      "execution_count": 7,
      "outputs": [
        {
          "output_type": "stream",
          "name": "stdout",
          "text": [
            "a\n"
          ]
        }
      ]
    },
    {
      "cell_type": "code",
      "source": [
        "def ryerson_letter_grade(n):\n",
        "    if n < 50:\n",
        "        return 'F'\n",
        "    elif n > 89:\n",
        "        return 'A+'\n",
        "    elif n > 84:\n",
        "        return 'A'\n",
        "    elif n > 79:\n",
        "        return 'A-'\n",
        "    tens = n // 10\n",
        "    ones = n % 10\n",
        "    if ones < 3:\n",
        "        adjust = \"-\"\n",
        "    elif ones > 6:\n",
        "        adjust = \"+\"\n",
        "    else:\n",
        "        adjust = \"\"\n",
        "    return \"DCB\"[tens - 5] + adjust\n",
        "\n",
        "result = ryerson_letter_grade(57)\n",
        "ryerson_letter_grade(result)"
      ],
      "metadata": {
        "colab": {
          "base_uri": "https://localhost:8080/",
          "height": 36
        },
        "id": "1HPCPZ1rRc_b",
        "outputId": "85854c76-44e8-4b39-dda3-4597526cb8ac"
      },
      "execution_count": 8,
      "outputs": [
        {
          "output_type": "execute_result",
          "data": {
            "text/plain": [
              "'D+'"
            ],
            "application/vnd.google.colaboratory.intrinsic+json": {
              "type": "string"
            }
          },
          "metadata": {},
          "execution_count": 8
        }
      ]
    },
    {
      "cell_type": "code",
      "source": [
        "def my_func(a):\n",
        "  print(\"some thing\")\n",
        "  return\n",
        "  \n",
        "\n",
        "\n",
        "\n",
        "print(my_func(\"s\"))"
      ],
      "metadata": {
        "colab": {
          "base_uri": "https://localhost:8080/"
        },
        "id": "5M5IE2RrZa-1",
        "outputId": "131cbd2d-f158-418c-9321-29fa58889af4"
      },
      "execution_count": 15,
      "outputs": [
        {
          "output_type": "stream",
          "name": "stdout",
          "text": [
            "some thing\n",
            "None\n"
          ]
        }
      ]
    },
    {
      "cell_type": "code",
      "source": [],
      "metadata": {
        "id": "M0o1wWy9ZxxO"
      },
      "execution_count": null,
      "outputs": []
    }
  ]
}